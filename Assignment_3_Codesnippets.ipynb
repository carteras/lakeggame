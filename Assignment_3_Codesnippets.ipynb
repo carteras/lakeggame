{
  "nbformat": 4,
  "nbformat_minor": 0,
  "metadata": {
    "colab": {
      "name": "Assignment_3_Codesnippets.ipynb",
      "provenance": [],
      "authorship_tag": "ABX9TyNfOtdn4fuRnmYKoLgGiXRW",
      "include_colab_link": true
    },
    "kernelspec": {
      "name": "python3",
      "display_name": "Python 3"
    }
  },
  "cells": [
    {
      "cell_type": "markdown",
      "metadata": {
        "id": "view-in-github",
        "colab_type": "text"
      },
      "source": [
        "<a href=\"https://colab.research.google.com/github/carteras/lakeggame/blob/master/Assignment_3_Codesnippets.ipynb\" target=\"_parent\"><img src=\"https://colab.research.google.com/assets/colab-badge.svg\" alt=\"Open In Colab\"/></a>"
      ]
    },
    {
      "cell_type": "markdown",
      "metadata": {
        "id": "1Cg4CD5zTqKi"
      },
      "source": [
        "Colab has a command line we can access from python. \n",
        "\n",
        "We can do that with the ! command. \n",
        "\n",
        "If you click play above, it will install it into this colab\n"
      ]
    },
    {
      "cell_type": "code",
      "metadata": {
        "id": "H3-KErxoTpSN",
        "outputId": "48c679ed-e8d6-43fa-9b03-869e76717b87",
        "colab": {
          "base_uri": "https://localhost:8080/",
          "height": 153
        }
      },
      "source": [
        "!pip install pyzipper"
      ],
      "execution_count": 1,
      "outputs": [
        {
          "output_type": "stream",
          "text": [
            "Collecting pyzipper\n",
            "\u001b[?25l  Downloading https://files.pythonhosted.org/packages/b4/64/2572e23af47c0c6f2abd4e0d4f25d6dd3647c6ada9841c2d6f634bffe55a/pyzipper-0.3.3-py2.py3-none-any.whl (162kB)\n",
            "\u001b[K     |████████████████████████████████| 163kB 2.7MB/s \n",
            "\u001b[?25hCollecting pycryptodomex\n",
            "\u001b[?25l  Downloading https://files.pythonhosted.org/packages/e1/47/d3ead950b09799b4c8816f6c62fbe09991932baadb1a7c372ed8ef0e8fbe/pycryptodomex-3.9.8-cp36-cp36m-manylinux1_x86_64.whl (13.7MB)\n",
            "\u001b[K     |████████████████████████████████| 13.7MB 311kB/s \n",
            "\u001b[?25hInstalling collected packages: pycryptodomex, pyzipper\n",
            "Successfully installed pycryptodomex-3.9.8 pyzipper-0.3.3\n"
          ],
          "name": "stdout"
        }
      ]
    },
    {
      "cell_type": "markdown",
      "metadata": {
        "id": "sfKvt5CLTo_B"
      },
      "source": [
        "Now we can run the following command. Note, it works basically the same as zipfile but it allows for AES Encryption and it allows me to password files :P \n",
        "\n"
      ]
    },
    {
      "cell_type": "code",
      "metadata": {
        "id": "nySJVSeiTjGS",
        "outputId": "c6ecc514-4e11-47aa-d1a2-deb3ec9346a5",
        "colab": {
          "base_uri": "https://localhost:8080/",
          "height": 34
        }
      },
      "source": [
        "import pyzipper\n",
        "\n",
        "secret_password = b'test123'\n",
        "\n",
        "with pyzipper.AESZipFile('new_test.zip',\n",
        "                        'w',\n",
        "                        compression=pyzipper.ZIP_LZMA,\n",
        "                        encryption=pyzipper.WZ_AES) as zf:\n",
        "    zf.pwd = secret_password\n",
        "    zf.writestr('test.txt', \"What ever you do, don't tell anyone!\")\n",
        "\n",
        "with pyzipper.AESZipFile('new_test.zip') as zf:\n",
        "    zf.pwd = secret_password\n",
        "    my_secrets = zf.read('test.txt')\n",
        "    print(my_secrets)"
      ],
      "execution_count": 2,
      "outputs": [
        {
          "output_type": "stream",
          "text": [
            "b\"What ever you do, don't tell anyone!\"\n"
          ],
          "name": "stdout"
        }
      ]
    }
  ]
}